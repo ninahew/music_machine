{
 "cells": [
  {
   "cell_type": "markdown",
   "metadata": {},
   "source": [
    "# Music Machine"
   ]
  },
  {
   "cell_type": "code",
   "execution_count": 1,
   "metadata": {},
   "outputs": [],
   "source": [
    "import spotipy.util as util\n",
    "import spotipy\n",
    "import os.path as path\n",
    "import matplotlib.pyplot as plt\n",
    "import seaborn as sns\n",
    "import pandas as pd\n",
    "\n",
    "username = 'ninahew'\n",
    "client_id ='a758a8092e3b45949388c4123f79948f'\n",
    "client_secret = '9852f1ad63d64a4284bf4496e1bd2115'\n",
    "redirect_uri = 'http://localhost:7777/callback'\n",
    "scope = 'user-read-recently-played'\n",
    "user_id = 'spotify:user:ninahew'\n",
    "\n",
    "from spotipy.oauth2 import SpotifyClientCredentials\n",
    "\n",
    "spotify = spotipy.Spotify(client_credentials_manager=SpotifyClientCredentials(client_id=client_id, \n",
    "                                                                              client_secret=client_secret))"
   ]
  },
  {
   "cell_type": "code",
   "execution_count": 2,
   "metadata": {},
   "outputs": [],
   "source": [
    "# psb_uri = 'spotify:artist:2ycnb8Er79LoH2AsR5ldjh'"
   ]
  },
  {
   "cell_type": "code",
   "execution_count": 3,
   "metadata": {},
   "outputs": [
    {
     "data": {
      "text/plain": [
       "'2ycnb8Er79LoH2AsR5ldjh'"
      ]
     },
     "execution_count": 3,
     "metadata": {},
     "output_type": "execute_result"
    }
   ],
   "source": [
    "psb_search = spotify.search(q='pet shop boys', type='artist')\n",
    "psb_id = psb_search['artists']['items'][0]['id']\n",
    "psb_id"
   ]
  },
  {
   "cell_type": "code",
   "execution_count": 4,
   "metadata": {},
   "outputs": [
    {
     "data": {
      "text/html": [
       "<div>\n",
       "<style scoped>\n",
       "    .dataframe tbody tr th:only-of-type {\n",
       "        vertical-align: middle;\n",
       "    }\n",
       "\n",
       "    .dataframe tbody tr th {\n",
       "        vertical-align: top;\n",
       "    }\n",
       "\n",
       "    .dataframe thead th {\n",
       "        text-align: right;\n",
       "    }\n",
       "</style>\n",
       "<table border=\"1\" class=\"dataframe\">\n",
       "  <thead>\n",
       "    <tr style=\"text-align: right;\">\n",
       "      <th></th>\n",
       "      <th>Unnamed: 0</th>\n",
       "      <th>acousticness</th>\n",
       "      <th>album_name</th>\n",
       "      <th>album_type</th>\n",
       "      <th>analysis_url</th>\n",
       "      <th>artist</th>\n",
       "      <th>danceability</th>\n",
       "      <th>duration_ms</th>\n",
       "      <th>energy</th>\n",
       "      <th>id</th>\n",
       "      <th>...</th>\n",
       "      <th>popularity</th>\n",
       "      <th>release_date</th>\n",
       "      <th>speechiness</th>\n",
       "      <th>tempo</th>\n",
       "      <th>time_signature</th>\n",
       "      <th>track_href</th>\n",
       "      <th>track_name</th>\n",
       "      <th>type</th>\n",
       "      <th>uri</th>\n",
       "      <th>valence</th>\n",
       "    </tr>\n",
       "  </thead>\n",
       "  <tbody>\n",
       "    <tr>\n",
       "      <th>299</th>\n",
       "      <td>299</td>\n",
       "      <td>0.000021</td>\n",
       "      <td>Yes: Further Listening 2008 - 2010 (2018 Remas...</td>\n",
       "      <td>album</td>\n",
       "      <td>https://api.spotify.com/v1/audio-analysis/3rET...</td>\n",
       "      <td>Pet Shop Boys</td>\n",
       "      <td>0.517</td>\n",
       "      <td>227813.0</td>\n",
       "      <td>0.836</td>\n",
       "      <td>3rETmXosxgXDccf9wZBKXm</td>\n",
       "      <td>...</td>\n",
       "      <td>13.0</td>\n",
       "      <td>2009-03-18</td>\n",
       "      <td>0.0372</td>\n",
       "      <td>94.034</td>\n",
       "      <td>4.0</td>\n",
       "      <td>https://api.spotify.com/v1/tracks/3rETmXosxgXD...</td>\n",
       "      <td>All over the World - New Version; 2018 Remaster</td>\n",
       "      <td>audio_features</td>\n",
       "      <td>spotify:track:3rETmXosxgXDccf9wZBKXm</td>\n",
       "      <td>0.4760</td>\n",
       "    </tr>\n",
       "    <tr>\n",
       "      <th>219</th>\n",
       "      <td>219</td>\n",
       "      <td>0.957000</td>\n",
       "      <td>The Most Incredible Thing</td>\n",
       "      <td>album</td>\n",
       "      <td>https://api.spotify.com/v1/audio-analysis/6wz2...</td>\n",
       "      <td>Bartek Bober, Dominic Wheeler, Joris Bartsch B...</td>\n",
       "      <td>0.408</td>\n",
       "      <td>107356.0</td>\n",
       "      <td>0.305</td>\n",
       "      <td>6wz2AttY8rjrAxI4YLM2uV</td>\n",
       "      <td>...</td>\n",
       "      <td>11.0</td>\n",
       "      <td>2011</td>\n",
       "      <td>0.0266</td>\n",
       "      <td>100.101</td>\n",
       "      <td>4.0</td>\n",
       "      <td>https://api.spotify.com/v1/tracks/6wz2AttY8rjr...</td>\n",
       "      <td>Prologue</td>\n",
       "      <td>audio_features</td>\n",
       "      <td>spotify:track:6wz2AttY8rjrAxI4YLM2uV</td>\n",
       "      <td>0.0514</td>\n",
       "    </tr>\n",
       "    <tr>\n",
       "      <th>239</th>\n",
       "      <td>239</td>\n",
       "      <td>0.170000</td>\n",
       "      <td>The Most Incredible Thing</td>\n",
       "      <td>album</td>\n",
       "      <td>https://api.spotify.com/v1/audio-analysis/7msK...</td>\n",
       "      <td>Bartek Bober, Dominic Wheeler, Joris Bartsch B...</td>\n",
       "      <td>0.311</td>\n",
       "      <td>202414.0</td>\n",
       "      <td>0.715</td>\n",
       "      <td>7msK0Of9SayE6VtZ4k384L</td>\n",
       "      <td>...</td>\n",
       "      <td>7.0</td>\n",
       "      <td>2011</td>\n",
       "      <td>0.0466</td>\n",
       "      <td>115.079</td>\n",
       "      <td>4.0</td>\n",
       "      <td>https://api.spotify.com/v1/tracks/7msK0Of9SayE...</td>\n",
       "      <td>The Wedding</td>\n",
       "      <td>audio_features</td>\n",
       "      <td>spotify:track:7msK0Of9SayE6VtZ4k384L</td>\n",
       "      <td>0.1130</td>\n",
       "    </tr>\n",
       "  </tbody>\n",
       "</table>\n",
       "<p>3 rows × 25 columns</p>\n",
       "</div>"
      ],
      "text/plain": [
       "     Unnamed: 0  acousticness  \\\n",
       "299         299      0.000021   \n",
       "219         219      0.957000   \n",
       "239         239      0.170000   \n",
       "\n",
       "                                            album_name album_type  \\\n",
       "299  Yes: Further Listening 2008 - 2010 (2018 Remas...      album   \n",
       "219                          The Most Incredible Thing      album   \n",
       "239                          The Most Incredible Thing      album   \n",
       "\n",
       "                                          analysis_url  \\\n",
       "299  https://api.spotify.com/v1/audio-analysis/3rET...   \n",
       "219  https://api.spotify.com/v1/audio-analysis/6wz2...   \n",
       "239  https://api.spotify.com/v1/audio-analysis/7msK...   \n",
       "\n",
       "                                                artist  danceability  \\\n",
       "299                                      Pet Shop Boys         0.517   \n",
       "219  Bartek Bober, Dominic Wheeler, Joris Bartsch B...         0.408   \n",
       "239  Bartek Bober, Dominic Wheeler, Joris Bartsch B...         0.311   \n",
       "\n",
       "     duration_ms  energy                      id  ...  popularity  \\\n",
       "299     227813.0   0.836  3rETmXosxgXDccf9wZBKXm  ...        13.0   \n",
       "219     107356.0   0.305  6wz2AttY8rjrAxI4YLM2uV  ...        11.0   \n",
       "239     202414.0   0.715  7msK0Of9SayE6VtZ4k384L  ...         7.0   \n",
       "\n",
       "     release_date  speechiness    tempo  time_signature  \\\n",
       "299    2009-03-18       0.0372   94.034             4.0   \n",
       "219          2011       0.0266  100.101             4.0   \n",
       "239          2011       0.0466  115.079             4.0   \n",
       "\n",
       "                                            track_href  \\\n",
       "299  https://api.spotify.com/v1/tracks/3rETmXosxgXD...   \n",
       "219  https://api.spotify.com/v1/tracks/6wz2AttY8rjr...   \n",
       "239  https://api.spotify.com/v1/tracks/7msK0Of9SayE...   \n",
       "\n",
       "                                          track_name            type  \\\n",
       "299  All over the World - New Version; 2018 Remaster  audio_features   \n",
       "219                                         Prologue  audio_features   \n",
       "239                                      The Wedding  audio_features   \n",
       "\n",
       "                                      uri  valence  \n",
       "299  spotify:track:3rETmXosxgXDccf9wZBKXm   0.4760  \n",
       "219  spotify:track:6wz2AttY8rjrAxI4YLM2uV   0.0514  \n",
       "239  spotify:track:7msK0Of9SayE6VtZ4k384L   0.1130  \n",
       "\n",
       "[3 rows x 25 columns]"
      ]
     },
     "execution_count": 4,
     "metadata": {},
     "output_type": "execute_result"
    }
   ],
   "source": [
    "df = pd.DataFrame()\n",
    "filepath = \"../data/PSB data.csv\"\n",
    "if not path.exists(filepath):\n",
    "    artist = psb_id\n",
    "    albums = spotify.artist_albums(artist)\n",
    "    for album in albums['items']:\n",
    "        tracks = spotify.album_tracks(album['id'])\n",
    "        for track in tracks['items']:\n",
    "                full_track = spotify.track(track['id'])\n",
    "                audio_features = spotify.audio_features(track['id'])[0]\n",
    "                audio_features['track_name'] = track['name']\n",
    "                audio_features['album_name'] = album['name']\n",
    "                audio_features['album_type'] = album['album_type']\n",
    "                audio_features['artist'] = ', '.join(sorted([artist['name'] for artist in track['artists']]))\n",
    "                audio_features['release_date'] = album['release_date']\n",
    "                audio_features['popularity'] = full_track['popularity']\n",
    "                df = df.append(audio_features, ignore_index=True)\n",
    "        df.to_csv(path_or_buf = filepath)\n",
    "else:\n",
    "    df = pd.read_csv(filepath)\n",
    "    \n",
    "df.sample(3)"
   ]
  },
  {
   "cell_type": "code",
   "execution_count": 5,
   "metadata": {},
   "outputs": [
    {
     "data": {
      "text/plain": [
       "308"
      ]
     },
     "execution_count": 5,
     "metadata": {},
     "output_type": "execute_result"
    }
   ],
   "source": [
    "len(df)"
   ]
  },
  {
   "cell_type": "code",
   "execution_count": 6,
   "metadata": {},
   "outputs": [
    {
     "data": {
      "text/plain": [
       "Index(['Unnamed: 0', 'acousticness', 'album_name', 'album_type',\n",
       "       'analysis_url', 'artist', 'danceability', 'duration_ms', 'energy', 'id',\n",
       "       'instrumentalness', 'key', 'liveness', 'loudness', 'mode', 'popularity',\n",
       "       'release_date', 'speechiness', 'tempo', 'time_signature', 'track_href',\n",
       "       'track_name', 'type', 'uri', 'valence'],\n",
       "      dtype='object')"
      ]
     },
     "execution_count": 6,
     "metadata": {},
     "output_type": "execute_result"
    }
   ],
   "source": [
    "df.columns"
   ]
  },
  {
   "cell_type": "code",
   "execution_count": 7,
   "metadata": {},
   "outputs": [],
   "source": [
    "df.drop(columns= ['analysis_url', 'release_date', 'track_href', 'type', 'uri'], inplace = True)\n",
    "df.drop(columns='id', inplace = True)\n",
    "df.drop(columns = ['album_name','album_type', 'artist', 'time_signature', 'track_name'], inplace = True)\n",
    "df.drop(columns = 'Unnamed: 0', inplace = True)"
   ]
  },
  {
   "cell_type": "code",
   "execution_count": 8,
   "metadata": {},
   "outputs": [
    {
     "data": {
      "text/html": [
       "<div>\n",
       "<style scoped>\n",
       "    .dataframe tbody tr th:only-of-type {\n",
       "        vertical-align: middle;\n",
       "    }\n",
       "\n",
       "    .dataframe tbody tr th {\n",
       "        vertical-align: top;\n",
       "    }\n",
       "\n",
       "    .dataframe thead th {\n",
       "        text-align: right;\n",
       "    }\n",
       "</style>\n",
       "<table border=\"1\" class=\"dataframe\">\n",
       "  <thead>\n",
       "    <tr style=\"text-align: right;\">\n",
       "      <th></th>\n",
       "      <th>acousticness</th>\n",
       "      <th>danceability</th>\n",
       "      <th>duration_ms</th>\n",
       "      <th>energy</th>\n",
       "      <th>instrumentalness</th>\n",
       "      <th>key</th>\n",
       "      <th>liveness</th>\n",
       "      <th>loudness</th>\n",
       "      <th>mode</th>\n",
       "      <th>popularity</th>\n",
       "      <th>speechiness</th>\n",
       "      <th>tempo</th>\n",
       "      <th>valence</th>\n",
       "    </tr>\n",
       "  </thead>\n",
       "  <tbody>\n",
       "    <tr>\n",
       "      <th>0</th>\n",
       "      <td>0.000029</td>\n",
       "      <td>0.488</td>\n",
       "      <td>268787.0</td>\n",
       "      <td>0.957</td>\n",
       "      <td>0.009040</td>\n",
       "      <td>0.0</td>\n",
       "      <td>0.554</td>\n",
       "      <td>-6.115</td>\n",
       "      <td>1.0</td>\n",
       "      <td>12.0</td>\n",
       "      <td>0.0592</td>\n",
       "      <td>124.997</td>\n",
       "      <td>0.531</td>\n",
       "    </tr>\n",
       "    <tr>\n",
       "      <th>1</th>\n",
       "      <td>0.219000</td>\n",
       "      <td>0.577</td>\n",
       "      <td>215333.0</td>\n",
       "      <td>0.633</td>\n",
       "      <td>0.003960</td>\n",
       "      <td>0.0</td>\n",
       "      <td>0.116</td>\n",
       "      <td>-7.920</td>\n",
       "      <td>1.0</td>\n",
       "      <td>11.0</td>\n",
       "      <td>0.0361</td>\n",
       "      <td>130.081</td>\n",
       "      <td>0.204</td>\n",
       "    </tr>\n",
       "    <tr>\n",
       "      <th>2</th>\n",
       "      <td>0.001990</td>\n",
       "      <td>0.575</td>\n",
       "      <td>231347.0</td>\n",
       "      <td>0.894</td>\n",
       "      <td>0.210000</td>\n",
       "      <td>8.0</td>\n",
       "      <td>0.463</td>\n",
       "      <td>-6.073</td>\n",
       "      <td>1.0</td>\n",
       "      <td>11.0</td>\n",
       "      <td>0.0391</td>\n",
       "      <td>127.010</td>\n",
       "      <td>0.320</td>\n",
       "    </tr>\n",
       "    <tr>\n",
       "      <th>3</th>\n",
       "      <td>0.022400</td>\n",
       "      <td>0.643</td>\n",
       "      <td>206160.0</td>\n",
       "      <td>0.736</td>\n",
       "      <td>0.000059</td>\n",
       "      <td>9.0</td>\n",
       "      <td>0.340</td>\n",
       "      <td>-6.159</td>\n",
       "      <td>0.0</td>\n",
       "      <td>14.0</td>\n",
       "      <td>0.0428</td>\n",
       "      <td>124.993</td>\n",
       "      <td>0.696</td>\n",
       "    </tr>\n",
       "    <tr>\n",
       "      <th>4</th>\n",
       "      <td>0.189000</td>\n",
       "      <td>0.510</td>\n",
       "      <td>300520.0</td>\n",
       "      <td>0.602</td>\n",
       "      <td>0.685000</td>\n",
       "      <td>4.0</td>\n",
       "      <td>0.118</td>\n",
       "      <td>-9.508</td>\n",
       "      <td>0.0</td>\n",
       "      <td>7.0</td>\n",
       "      <td>0.0313</td>\n",
       "      <td>130.021</td>\n",
       "      <td>0.310</td>\n",
       "    </tr>\n",
       "  </tbody>\n",
       "</table>\n",
       "</div>"
      ],
      "text/plain": [
       "   acousticness  danceability  duration_ms  energy  instrumentalness  key  \\\n",
       "0      0.000029         0.488     268787.0   0.957          0.009040  0.0   \n",
       "1      0.219000         0.577     215333.0   0.633          0.003960  0.0   \n",
       "2      0.001990         0.575     231347.0   0.894          0.210000  8.0   \n",
       "3      0.022400         0.643     206160.0   0.736          0.000059  9.0   \n",
       "4      0.189000         0.510     300520.0   0.602          0.685000  4.0   \n",
       "\n",
       "   liveness  loudness  mode  popularity  speechiness    tempo  valence  \n",
       "0     0.554    -6.115   1.0        12.0       0.0592  124.997    0.531  \n",
       "1     0.116    -7.920   1.0        11.0       0.0361  130.081    0.204  \n",
       "2     0.463    -6.073   1.0        11.0       0.0391  127.010    0.320  \n",
       "3     0.340    -6.159   0.0        14.0       0.0428  124.993    0.696  \n",
       "4     0.118    -9.508   0.0         7.0       0.0313  130.021    0.310  "
      ]
     },
     "execution_count": 8,
     "metadata": {},
     "output_type": "execute_result"
    }
   ],
   "source": [
    "df.head()"
   ]
  },
  {
   "cell_type": "code",
   "execution_count": 44,
   "metadata": {},
   "outputs": [
    {
     "data": {
      "text/html": [
       "<div>\n",
       "<style scoped>\n",
       "    .dataframe tbody tr th:only-of-type {\n",
       "        vertical-align: middle;\n",
       "    }\n",
       "\n",
       "    .dataframe tbody tr th {\n",
       "        vertical-align: top;\n",
       "    }\n",
       "\n",
       "    .dataframe thead th {\n",
       "        text-align: right;\n",
       "    }\n",
       "</style>\n",
       "<table border=\"1\" class=\"dataframe\">\n",
       "  <thead>\n",
       "    <tr style=\"text-align: right;\">\n",
       "      <th></th>\n",
       "      <th>acousticness</th>\n",
       "      <th>danceability</th>\n",
       "      <th>duration_ms</th>\n",
       "      <th>energy</th>\n",
       "      <th>instrumentalness</th>\n",
       "      <th>key</th>\n",
       "      <th>liveness</th>\n",
       "      <th>loudness</th>\n",
       "      <th>mode</th>\n",
       "      <th>popularity</th>\n",
       "      <th>speechiness</th>\n",
       "      <th>tempo</th>\n",
       "      <th>valence</th>\n",
       "    </tr>\n",
       "  </thead>\n",
       "  <tbody>\n",
       "    <tr>\n",
       "      <th>0</th>\n",
       "      <td>-0.637357</td>\n",
       "      <td>-0.594109</td>\n",
       "      <td>-0.020469</td>\n",
       "      <td>1.042890</td>\n",
       "      <td>-0.656240</td>\n",
       "      <td>-1.473942</td>\n",
       "      <td>0.660524</td>\n",
       "      <td>0.519769</td>\n",
       "      <td>0.937043</td>\n",
       "      <td>-0.017450</td>\n",
       "      <td>0.538678</td>\n",
       "      <td>0.182679</td>\n",
       "      <td>0.485874</td>\n",
       "    </tr>\n",
       "    <tr>\n",
       "      <th>1</th>\n",
       "      <td>0.544455</td>\n",
       "      <td>0.135603</td>\n",
       "      <td>-0.605458</td>\n",
       "      <td>-0.747813</td>\n",
       "      <td>-0.672269</td>\n",
       "      <td>-1.473942</td>\n",
       "      <td>-0.815711</td>\n",
       "      <td>-0.336088</td>\n",
       "      <td>0.937043</td>\n",
       "      <td>-0.104136</td>\n",
       "      <td>-0.389916</td>\n",
       "      <td>0.516887</td>\n",
       "      <td>-0.988041</td>\n",
       "    </tr>\n",
       "    <tr>\n",
       "      <th>2</th>\n",
       "      <td>-0.626776</td>\n",
       "      <td>0.119205</td>\n",
       "      <td>-0.430204</td>\n",
       "      <td>0.694698</td>\n",
       "      <td>-0.022145</td>\n",
       "      <td>0.824661</td>\n",
       "      <td>0.353818</td>\n",
       "      <td>0.539684</td>\n",
       "      <td>0.937043</td>\n",
       "      <td>-0.104136</td>\n",
       "      <td>-0.269320</td>\n",
       "      <td>0.315008</td>\n",
       "      <td>-0.465184</td>\n",
       "    </tr>\n",
       "    <tr>\n",
       "      <th>3</th>\n",
       "      <td>-0.516621</td>\n",
       "      <td>0.676738</td>\n",
       "      <td>-0.705845</td>\n",
       "      <td>-0.178546</td>\n",
       "      <td>-0.684576</td>\n",
       "      <td>1.111987</td>\n",
       "      <td>-0.060742</td>\n",
       "      <td>0.498906</td>\n",
       "      <td>-1.067187</td>\n",
       "      <td>0.155922</td>\n",
       "      <td>-0.120584</td>\n",
       "      <td>0.182416</td>\n",
       "      <td>1.229593</td>\n",
       "    </tr>\n",
       "    <tr>\n",
       "      <th>4</th>\n",
       "      <td>0.382541</td>\n",
       "      <td>-0.413731</td>\n",
       "      <td>0.326809</td>\n",
       "      <td>-0.919145</td>\n",
       "      <td>1.476636</td>\n",
       "      <td>-0.324640</td>\n",
       "      <td>-0.808971</td>\n",
       "      <td>-1.089052</td>\n",
       "      <td>-1.067187</td>\n",
       "      <td>-0.450880</td>\n",
       "      <td>-0.582871</td>\n",
       "      <td>0.512943</td>\n",
       "      <td>-0.510258</td>\n",
       "    </tr>\n",
       "  </tbody>\n",
       "</table>\n",
       "</div>"
      ],
      "text/plain": [
       "   acousticness  danceability  duration_ms    energy  instrumentalness  \\\n",
       "0     -0.637357     -0.594109    -0.020469  1.042890         -0.656240   \n",
       "1      0.544455      0.135603    -0.605458 -0.747813         -0.672269   \n",
       "2     -0.626776      0.119205    -0.430204  0.694698         -0.022145   \n",
       "3     -0.516621      0.676738    -0.705845 -0.178546         -0.684576   \n",
       "4      0.382541     -0.413731     0.326809 -0.919145          1.476636   \n",
       "\n",
       "        key  liveness  loudness      mode  popularity  speechiness     tempo  \\\n",
       "0 -1.473942  0.660524  0.519769  0.937043   -0.017450     0.538678  0.182679   \n",
       "1 -1.473942 -0.815711 -0.336088  0.937043   -0.104136    -0.389916  0.516887   \n",
       "2  0.824661  0.353818  0.539684  0.937043   -0.104136    -0.269320  0.315008   \n",
       "3  1.111987 -0.060742  0.498906 -1.067187    0.155922    -0.120584  0.182416   \n",
       "4 -0.324640 -0.808971 -1.089052 -1.067187   -0.450880    -0.582871  0.512943   \n",
       "\n",
       "    valence  \n",
       "0  0.485874  \n",
       "1 -0.988041  \n",
       "2 -0.465184  \n",
       "3  1.229593  \n",
       "4 -0.510258  "
      ]
     },
     "execution_count": 44,
     "metadata": {},
     "output_type": "execute_result"
    }
   ],
   "source": [
    "from sklearn.preprocessing import MinMaxScaler\n",
    "from sklearn.preprocessing import StandardScaler\n",
    "# scaler = MinMaxScaler()\n",
    "scaler = StandardScaler()\n",
    "df_normalized = pd.DataFrame(scaler.fit_transform(df), columns = df.columns)\n",
    "df_normalized.head()"
   ]
  },
  {
   "cell_type": "code",
   "execution_count": 45,
   "metadata": {},
   "outputs": [
    {
     "data": {
      "text/plain": [
       "acousticness        float64\n",
       "danceability        float64\n",
       "duration_ms         float64\n",
       "energy              float64\n",
       "instrumentalness    float64\n",
       "key                 float64\n",
       "liveness            float64\n",
       "loudness            float64\n",
       "mode                float64\n",
       "popularity          float64\n",
       "speechiness         float64\n",
       "tempo               float64\n",
       "valence             float64\n",
       "dtype: object"
      ]
     },
     "execution_count": 45,
     "metadata": {},
     "output_type": "execute_result"
    }
   ],
   "source": [
    "df_normalized.dtypes"
   ]
  },
  {
   "cell_type": "code",
   "execution_count": 46,
   "metadata": {},
   "outputs": [
    {
     "data": {
      "text/plain": [
       "<AxesSubplot:>"
      ]
     },
     "execution_count": 46,
     "metadata": {},
     "output_type": "execute_result"
    },
    {
     "data": {
      "image/png": "[encoded data removed]",
      "text/plain": [
       "<Figure size 432x288 with 2 Axes>"
      ]
     },
     "metadata": {
      "needs_background": "light"
     },
     "output_type": "display_data"
    }
   ],
   "source": [
    "import seaborn as sns\n",
    "sns.heatmap(df_normalized.corr())\n",
    "# no real multi collinearity and no individual factor jumps out to influence popularity"
   ]
  },
  {
   "cell_type": "code",
   "execution_count": 47,
   "metadata": {},
   "outputs": [
    {
     "name": "stdout",
     "output_type": "stream",
     "text": [
      "     acousticness  danceability  duration_ms    energy  instrumentalness  \\\n",
      "0       -0.637357     -0.594109    -0.020469  1.042890         -0.656240   \n",
      "1        0.544455      0.135603    -0.605458 -0.747813         -0.672269   \n",
      "2       -0.626776      0.119205    -0.430204  0.694698         -0.022145   \n",
      "3       -0.516621      0.676738    -0.705845 -0.178546         -0.684576   \n",
      "4        0.382541     -0.413731     0.326809 -0.919145          1.476636   \n",
      "..            ...           ...          ...       ...               ...   \n",
      "303     -0.550083     -0.200556    -0.675498  0.921299         -0.684448   \n",
      "304     -0.592127     -1.225433    -0.718102  0.523365         -0.672143   \n",
      "305      0.825105      1.373655    -1.785339 -2.118474         -0.684764   \n",
      "306      0.889871      2.947866    -1.552455 -2.499827         -0.675834   \n",
      "307     -0.600762     -1.020458    -0.695777 -1.427617         -0.487871   \n",
      "\n",
      "          key  liveness  loudness      mode  speechiness     tempo   valence  \n",
      "0   -1.473942  0.660524  0.519769  0.937043     0.538678  0.182679  0.485874  \n",
      "1   -1.473942 -0.815711 -0.336088  0.937043    -0.389916  0.516887 -0.988041  \n",
      "2    0.824661  0.353818  0.539684  0.937043    -0.269320  0.315008 -0.465184  \n",
      "3    1.111987 -0.060742  0.498906 -1.067187    -0.120584  0.182416  1.229593  \n",
      "4   -0.324640 -0.808971 -1.089052 -1.067187    -0.582871  0.512943 -0.510258  \n",
      "..        ...       ...       ...       ...          ...       ...       ...  \n",
      "303 -1.473942 -0.188817  1.187859  0.937043    -0.305499  0.247825  1.959790  \n",
      "304  1.399312 -0.728081  0.507915  0.937043     0.434161  1.825781 -0.181219  \n",
      "305 -1.473942 -0.900982 -0.235566  0.937043    -0.329618 -0.142392 -0.357007  \n",
      "306  1.399312 -0.832563 -1.639076  0.937043     0.868309  0.317177 -0.979027  \n",
      "307 -1.473942 -0.897275  0.075482  0.937043    -0.679348  0.315994 -1.285529  \n",
      "\n",
      "[308 rows x 12 columns]\n",
      "0     -0.017450\n",
      "1     -0.104136\n",
      "2     -0.104136\n",
      "3      0.155922\n",
      "4     -0.450880\n",
      "         ...   \n",
      "303    0.069236\n",
      "304   -0.104136\n",
      "305   -0.364194\n",
      "306   -0.277508\n",
      "307   -0.190822\n",
      "Name: popularity, Length: 308, dtype: float64\n"
     ]
    }
   ],
   "source": [
    "X = df_normalized[['acousticness', 'danceability', 'duration_ms', 'energy',\n",
    "       'instrumentalness', 'key', 'liveness', 'loudness', 'mode',\n",
    "       'speechiness', 'tempo', 'valence']]\n",
    "y = df_normalized['popularity']\n",
    "\n",
    "print(X)\n",
    "print(y)"
   ]
  },
  {
   "cell_type": "code",
   "execution_count": 48,
   "metadata": {},
   "outputs": [
    {
     "data": {
      "text/plain": [
       "array([-0.,  0.,  0.,  0., -0.,  0.,  0.,  0., -0., -0.,  0.,  0.])"
      ]
     },
     "execution_count": 48,
     "metadata": {},
     "output_type": "execute_result"
    }
   ],
   "source": [
    "from sklearn.linear_model import Lasso\n",
    "from sklearn.model_selection import train_test_split\n",
    "\n",
    "X_train, X_test, y_train, y_test = train_test_split(X, y, test_size=0.30, random_state=100)\n",
    "lasso_model = Lasso(alpha= 1.0)\n",
    "lasso_model.fit(X_train,y_train).coef_ "
   ]
  },
  {
   "cell_type": "code",
   "execution_count": 49,
   "metadata": {},
   "outputs": [
    {
     "data": {
      "text/plain": [
       "Index(['acousticness', 'danceability', 'duration_ms', 'energy',\n",
       "       'instrumentalness', 'key', 'liveness', 'loudness', 'mode', 'popularity',\n",
       "       'speechiness', 'tempo', 'valence'],\n",
       "      dtype='object')"
      ]
     },
     "execution_count": 49,
     "metadata": {},
     "output_type": "execute_result"
    }
   ],
   "source": [
    "df_normalized.columns"
   ]
  },
  {
   "cell_type": "code",
   "execution_count": 55,
   "metadata": {},
   "outputs": [
    {
     "data": {
      "text/html": [
       "<div>\n",
       "<style scoped>\n",
       "    .dataframe tbody tr th:only-of-type {\n",
       "        vertical-align: middle;\n",
       "    }\n",
       "\n",
       "    .dataframe tbody tr th {\n",
       "        vertical-align: top;\n",
       "    }\n",
       "\n",
       "    .dataframe thead th {\n",
       "        text-align: right;\n",
       "    }\n",
       "</style>\n",
       "<table border=\"1\" class=\"dataframe\">\n",
       "  <thead>\n",
       "    <tr style=\"text-align: right;\">\n",
       "      <th></th>\n",
       "      <th>test</th>\n",
       "      <th>predicted</th>\n",
       "    </tr>\n",
       "  </thead>\n",
       "  <tbody>\n",
       "    <tr>\n",
       "      <th>110</th>\n",
       "      <td>2.323075</td>\n",
       "      <td>0.018031</td>\n",
       "    </tr>\n",
       "    <tr>\n",
       "      <th>52</th>\n",
       "      <td>-0.884311</td>\n",
       "      <td>0.018031</td>\n",
       "    </tr>\n",
       "    <tr>\n",
       "      <th>26</th>\n",
       "      <td>-0.797625</td>\n",
       "      <td>0.018031</td>\n",
       "    </tr>\n",
       "    <tr>\n",
       "      <th>237</th>\n",
       "      <td>-0.450880</td>\n",
       "      <td>0.018031</td>\n",
       "    </tr>\n",
       "    <tr>\n",
       "      <th>248</th>\n",
       "      <td>-0.884311</td>\n",
       "      <td>0.018031</td>\n",
       "    </tr>\n",
       "    <tr>\n",
       "      <th>...</th>\n",
       "      <td>...</td>\n",
       "      <td>...</td>\n",
       "    </tr>\n",
       "    <tr>\n",
       "      <th>66</th>\n",
       "      <td>-0.884311</td>\n",
       "      <td>0.018031</td>\n",
       "    </tr>\n",
       "    <tr>\n",
       "      <th>53</th>\n",
       "      <td>-0.884311</td>\n",
       "      <td>0.018031</td>\n",
       "    </tr>\n",
       "    <tr>\n",
       "      <th>79</th>\n",
       "      <td>-0.970997</td>\n",
       "      <td>0.018031</td>\n",
       "    </tr>\n",
       "    <tr>\n",
       "      <th>280</th>\n",
       "      <td>0.329295</td>\n",
       "      <td>0.018031</td>\n",
       "    </tr>\n",
       "    <tr>\n",
       "      <th>8</th>\n",
       "      <td>-0.190822</td>\n",
       "      <td>0.018031</td>\n",
       "    </tr>\n",
       "  </tbody>\n",
       "</table>\n",
       "<p>215 rows × 2 columns</p>\n",
       "</div>"
      ],
      "text/plain": [
       "         test  predicted\n",
       "110  2.323075   0.018031\n",
       "52  -0.884311   0.018031\n",
       "26  -0.797625   0.018031\n",
       "237 -0.450880   0.018031\n",
       "248 -0.884311   0.018031\n",
       "..        ...        ...\n",
       "66  -0.884311   0.018031\n",
       "53  -0.884311   0.018031\n",
       "79  -0.970997   0.018031\n",
       "280  0.329295   0.018031\n",
       "8   -0.190822   0.018031\n",
       "\n",
       "[215 rows x 2 columns]"
      ]
     },
     "execution_count": 55,
     "metadata": {},
     "output_type": "execute_result"
    }
   ],
   "source": [
    "y_pred = lasso_model.predict(X_train)\n",
    "first_test = pd.DataFrame({'test':y_train, 'predicted':y_pred})\n",
    "first_test"
   ]
  },
  {
   "cell_type": "code",
   "execution_count": null,
   "metadata": {},
   "outputs": [],
   "source": []
  },
  {
   "cell_type": "code",
   "execution_count": 51,
   "metadata": {},
   "outputs": [
    {
     "data": {
      "text/plain": [
       "<AxesSubplot:>"
      ]
     },
     "execution_count": 51,
     "metadata": {},
     "output_type": "execute_result"
    },
    {
     "data": {
      "image/png": "[encoded data removed]",
      "text/plain": [
       "<Figure size 432x288 with 1 Axes>"
      ]
     },
     "metadata": {
      "needs_background": "light"
     },
     "output_type": "display_data"
    }
   ],
   "source": [
    "sns.scatterplot(data = first_test)"
   ]
  },
  {
   "cell_type": "code",
   "execution_count": 52,
   "metadata": {},
   "outputs": [
    {
     "data": {
      "text/plain": [
       "array([-0.,  0.,  0.,  0., -0.,  0.,  0.,  0., -0., -0.,  0.,  0.])"
      ]
     },
     "execution_count": 52,
     "metadata": {},
     "output_type": "execute_result"
    }
   ],
   "source": [
    "from sklearn.linear_model import ElasticNet\n",
    "\n",
    "elastic_model = ElasticNet(alpha = 1.0)\n",
    "elastic_model.fit(X_train,y_train).coef_"
   ]
  },
  {
   "cell_type": "code",
   "execution_count": 53,
   "metadata": {},
   "outputs": [
    {
     "data": {
      "text/html": [
       "<div>\n",
       "<style scoped>\n",
       "    .dataframe tbody tr th:only-of-type {\n",
       "        vertical-align: middle;\n",
       "    }\n",
       "\n",
       "    .dataframe tbody tr th {\n",
       "        vertical-align: top;\n",
       "    }\n",
       "\n",
       "    .dataframe thead th {\n",
       "        text-align: right;\n",
       "    }\n",
       "</style>\n",
       "<table border=\"1\" class=\"dataframe\">\n",
       "  <thead>\n",
       "    <tr style=\"text-align: right;\">\n",
       "      <th></th>\n",
       "      <th>test</th>\n",
       "      <th>predicted</th>\n",
       "    </tr>\n",
       "  </thead>\n",
       "  <tbody>\n",
       "    <tr>\n",
       "      <th>110</th>\n",
       "      <td>2.323075</td>\n",
       "      <td>0.018031</td>\n",
       "    </tr>\n",
       "    <tr>\n",
       "      <th>52</th>\n",
       "      <td>-0.884311</td>\n",
       "      <td>0.018031</td>\n",
       "    </tr>\n",
       "    <tr>\n",
       "      <th>26</th>\n",
       "      <td>-0.797625</td>\n",
       "      <td>0.018031</td>\n",
       "    </tr>\n",
       "    <tr>\n",
       "      <th>237</th>\n",
       "      <td>-0.450880</td>\n",
       "      <td>0.018031</td>\n",
       "    </tr>\n",
       "    <tr>\n",
       "      <th>248</th>\n",
       "      <td>-0.884311</td>\n",
       "      <td>0.018031</td>\n",
       "    </tr>\n",
       "    <tr>\n",
       "      <th>...</th>\n",
       "      <td>...</td>\n",
       "      <td>...</td>\n",
       "    </tr>\n",
       "    <tr>\n",
       "      <th>66</th>\n",
       "      <td>-0.884311</td>\n",
       "      <td>0.018031</td>\n",
       "    </tr>\n",
       "    <tr>\n",
       "      <th>53</th>\n",
       "      <td>-0.884311</td>\n",
       "      <td>0.018031</td>\n",
       "    </tr>\n",
       "    <tr>\n",
       "      <th>79</th>\n",
       "      <td>-0.970997</td>\n",
       "      <td>0.018031</td>\n",
       "    </tr>\n",
       "    <tr>\n",
       "      <th>280</th>\n",
       "      <td>0.329295</td>\n",
       "      <td>0.018031</td>\n",
       "    </tr>\n",
       "    <tr>\n",
       "      <th>8</th>\n",
       "      <td>-0.190822</td>\n",
       "      <td>0.018031</td>\n",
       "    </tr>\n",
       "  </tbody>\n",
       "</table>\n",
       "<p>215 rows × 2 columns</p>\n",
       "</div>"
      ],
      "text/plain": [
       "         test  predicted\n",
       "110  2.323075   0.018031\n",
       "52  -0.884311   0.018031\n",
       "26  -0.797625   0.018031\n",
       "237 -0.450880   0.018031\n",
       "248 -0.884311   0.018031\n",
       "..        ...        ...\n",
       "66  -0.884311   0.018031\n",
       "53  -0.884311   0.018031\n",
       "79  -0.970997   0.018031\n",
       "280  0.329295   0.018031\n",
       "8   -0.190822   0.018031\n",
       "\n",
       "[215 rows x 2 columns]"
      ]
     },
     "execution_count": 53,
     "metadata": {},
     "output_type": "execute_result"
    }
   ],
   "source": [
    "y_pred_elastic = elastic_model.predict(X_train)\n",
    "second_test = pd.DataFrame({'test':y_train, 'predicted':y_pred_elastic})\n",
    "second_test"
   ]
  },
  {
   "cell_type": "code",
   "execution_count": 58,
   "metadata": {},
   "outputs": [
    {
     "data": {
      "text/plain": [
       "array([-0.26932335, -0.11991216, -0.03934728, -0.02115052, -0.06086581,\n",
       "        0.12799641,  0.06102302,  0.04052287, -0.04248249, -0.07120105,\n",
       "        0.05419633,  0.0813845 ])"
      ]
     },
     "execution_count": 58,
     "metadata": {},
     "output_type": "execute_result"
    }
   ],
   "source": [
    "from sklearn.linear_model import LinearRegression\n",
    "\n",
    "linear_model = LinearRegression()\n",
    "linear_model.fit(X_train,y_train).coef_ "
   ]
  },
  {
   "cell_type": "code",
   "execution_count": 74,
   "metadata": {},
   "outputs": [
    {
     "data": {
      "text/html": [
       "<div>\n",
       "<style scoped>\n",
       "    .dataframe tbody tr th:only-of-type {\n",
       "        vertical-align: middle;\n",
       "    }\n",
       "\n",
       "    .dataframe tbody tr th {\n",
       "        vertical-align: top;\n",
       "    }\n",
       "\n",
       "    .dataframe thead th {\n",
       "        text-align: right;\n",
       "    }\n",
       "</style>\n",
       "<table border=\"1\" class=\"dataframe\">\n",
       "  <thead>\n",
       "    <tr style=\"text-align: right;\">\n",
       "      <th></th>\n",
       "      <th>test</th>\n",
       "      <th>predicted</th>\n",
       "    </tr>\n",
       "  </thead>\n",
       "  <tbody>\n",
       "    <tr>\n",
       "      <th>110</th>\n",
       "      <td>2.323075</td>\n",
       "      <td>0.402956</td>\n",
       "    </tr>\n",
       "    <tr>\n",
       "      <th>52</th>\n",
       "      <td>-0.884311</td>\n",
       "      <td>-0.049536</td>\n",
       "    </tr>\n",
       "    <tr>\n",
       "      <th>26</th>\n",
       "      <td>-0.797625</td>\n",
       "      <td>-0.033073</td>\n",
       "    </tr>\n",
       "    <tr>\n",
       "      <th>237</th>\n",
       "      <td>-0.450880</td>\n",
       "      <td>-1.033206</td>\n",
       "    </tr>\n",
       "    <tr>\n",
       "      <th>248</th>\n",
       "      <td>-0.884311</td>\n",
       "      <td>0.352677</td>\n",
       "    </tr>\n",
       "    <tr>\n",
       "      <th>...</th>\n",
       "      <td>...</td>\n",
       "      <td>...</td>\n",
       "    </tr>\n",
       "    <tr>\n",
       "      <th>66</th>\n",
       "      <td>-0.884311</td>\n",
       "      <td>0.180051</td>\n",
       "    </tr>\n",
       "    <tr>\n",
       "      <th>53</th>\n",
       "      <td>-0.884311</td>\n",
       "      <td>0.041205</td>\n",
       "    </tr>\n",
       "    <tr>\n",
       "      <th>79</th>\n",
       "      <td>-0.970997</td>\n",
       "      <td>0.372561</td>\n",
       "    </tr>\n",
       "    <tr>\n",
       "      <th>280</th>\n",
       "      <td>0.329295</td>\n",
       "      <td>0.416473</td>\n",
       "    </tr>\n",
       "    <tr>\n",
       "      <th>8</th>\n",
       "      <td>-0.190822</td>\n",
       "      <td>0.080979</td>\n",
       "    </tr>\n",
       "  </tbody>\n",
       "</table>\n",
       "<p>215 rows × 2 columns</p>\n",
       "</div>"
      ],
      "text/plain": [
       "         test  predicted\n",
       "110  2.323075   0.402956\n",
       "52  -0.884311  -0.049536\n",
       "26  -0.797625  -0.033073\n",
       "237 -0.450880  -1.033206\n",
       "248 -0.884311   0.352677\n",
       "..        ...        ...\n",
       "66  -0.884311   0.180051\n",
       "53  -0.884311   0.041205\n",
       "79  -0.970997   0.372561\n",
       "280  0.329295   0.416473\n",
       "8   -0.190822   0.080979\n",
       "\n",
       "[215 rows x 2 columns]"
      ]
     },
     "execution_count": 74,
     "metadata": {},
     "output_type": "execute_result"
    }
   ],
   "source": [
    "y_pred_linear = linear_model.predict(X_train)\n",
    "third_test = pd.DataFrame({'test':y_train, 'predicted':y_pred_linear})\n",
    "third_test"
   ]
  },
  {
   "cell_type": "code",
   "execution_count": 75,
   "metadata": {},
   "outputs": [
    {
     "data": {
      "text/plain": [
       "0.09953644919999993"
      ]
     },
     "execution_count": 75,
     "metadata": {},
     "output_type": "execute_result"
    }
   ],
   "source": [
    "from sklearn.metrics import r2_score\n",
    "r2_score(y_train, y_pred_linear)"
   ]
  },
  {
   "cell_type": "code",
   "execution_count": 76,
   "metadata": {},
   "outputs": [
    {
     "data": {
      "text/html": [
       "<div>\n",
       "<style scoped>\n",
       "    .dataframe tbody tr th:only-of-type {\n",
       "        vertical-align: middle;\n",
       "    }\n",
       "\n",
       "    .dataframe tbody tr th {\n",
       "        vertical-align: top;\n",
       "    }\n",
       "\n",
       "    .dataframe thead th {\n",
       "        text-align: right;\n",
       "    }\n",
       "</style>\n",
       "<table border=\"1\" class=\"dataframe\">\n",
       "  <thead>\n",
       "    <tr style=\"text-align: right;\">\n",
       "      <th></th>\n",
       "      <th>test</th>\n",
       "      <th>predicted</th>\n",
       "    </tr>\n",
       "  </thead>\n",
       "  <tbody>\n",
       "    <tr>\n",
       "      <th>75</th>\n",
       "      <td>-0.884311</td>\n",
       "      <td>0.112880</td>\n",
       "    </tr>\n",
       "    <tr>\n",
       "      <th>7</th>\n",
       "      <td>-0.450880</td>\n",
       "      <td>0.118563</td>\n",
       "    </tr>\n",
       "    <tr>\n",
       "      <th>154</th>\n",
       "      <td>-0.537566</td>\n",
       "      <td>-0.334349</td>\n",
       "    </tr>\n",
       "    <tr>\n",
       "      <th>56</th>\n",
       "      <td>-0.884311</td>\n",
       "      <td>0.018531</td>\n",
       "    </tr>\n",
       "    <tr>\n",
       "      <th>217</th>\n",
       "      <td>-0.970997</td>\n",
       "      <td>0.027439</td>\n",
       "    </tr>\n",
       "    <tr>\n",
       "      <th>...</th>\n",
       "      <td>...</td>\n",
       "      <td>...</td>\n",
       "    </tr>\n",
       "    <tr>\n",
       "      <th>209</th>\n",
       "      <td>-0.884311</td>\n",
       "      <td>-0.486367</td>\n",
       "    </tr>\n",
       "    <tr>\n",
       "      <th>263</th>\n",
       "      <td>0.762725</td>\n",
       "      <td>0.125170</td>\n",
       "    </tr>\n",
       "    <tr>\n",
       "      <th>85</th>\n",
       "      <td>1.369528</td>\n",
       "      <td>0.225787</td>\n",
       "    </tr>\n",
       "    <tr>\n",
       "      <th>31</th>\n",
       "      <td>-0.797625</td>\n",
       "      <td>0.017634</td>\n",
       "    </tr>\n",
       "    <tr>\n",
       "      <th>282</th>\n",
       "      <td>0.589353</td>\n",
       "      <td>0.388529</td>\n",
       "    </tr>\n",
       "  </tbody>\n",
       "</table>\n",
       "<p>93 rows × 2 columns</p>\n",
       "</div>"
      ],
      "text/plain": [
       "         test  predicted\n",
       "75  -0.884311   0.112880\n",
       "7   -0.450880   0.118563\n",
       "154 -0.537566  -0.334349\n",
       "56  -0.884311   0.018531\n",
       "217 -0.970997   0.027439\n",
       "..        ...        ...\n",
       "209 -0.884311  -0.486367\n",
       "263  0.762725   0.125170\n",
       "85   1.369528   0.225787\n",
       "31  -0.797625   0.017634\n",
       "282  0.589353   0.388529\n",
       "\n",
       "[93 rows x 2 columns]"
      ]
     },
     "execution_count": 76,
     "metadata": {},
     "output_type": "execute_result"
    }
   ],
   "source": [
    "y_pred_linear = linear_model.predict(X_test)\n",
    "third_test = pd.DataFrame({'test':y_test, 'predicted':y_pred_linear})\n",
    "third_test"
   ]
  },
  {
   "cell_type": "code",
   "execution_count": 77,
   "metadata": {},
   "outputs": [
    {
     "data": {
      "text/plain": [
       "-0.07982927092445835"
      ]
     },
     "execution_count": 77,
     "metadata": {},
     "output_type": "execute_result"
    }
   ],
   "source": [
    "r2_score(y_test, y_pred_linear)"
   ]
  },
  {
   "cell_type": "code",
   "execution_count": null,
   "metadata": {},
   "outputs": [],
   "source": []
  },
  {
   "cell_type": "code",
   "execution_count": null,
   "metadata": {},
   "outputs": [],
   "source": []
  }
 ],
 "metadata": {
  "kernelspec": {
   "display_name": "Python 3",
   "language": "python",
   "name": "python3"
  },
  "language_info": {
   "codemirror_mode": {
    "name": "ipython",
    "version": 3
   },
   "file_extension": ".py",
   "mimetype": "text/x-python",
   "name": "python",
   "nbconvert_exporter": "python",
   "pygments_lexer": "ipython3",
   "version": "3.8.2"
  }
 },
 "nbformat": 4,
 "nbformat_minor": 4
}
