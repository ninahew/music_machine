{
 "cells": [
  {
   "cell_type": "markdown",
   "metadata": {},
   "source": [
    "# Music Machine"
   ]
  },
  {
   "cell_type": "code",
   "execution_count": 50,
   "metadata": {},
   "outputs": [],
   "source": [
    "import spotipy.util as util\n",
    "import spotipy\n",
    "import os.path as path\n",
    "import matplotlib.pyplot as plt\n",
    "import seaborn as sns\n",
    "import pandas as pd\n",
    "\n",
    "username = 'ninahew'\n",
    "client_id ='a758a8092e3b45949388c4123f79948f'\n",
    "client_secret = '9852f1ad63d64a4284bf4496e1bd2115'\n",
    "redirect_uri = 'http://localhost:7777/callback'\n",
    "scope = 'user-read-recently-played'\n",
    "user_id = 'spotify:user:ninahew'\n",
    "\n",
    "from spotipy.oauth2 import SpotifyClientCredentials\n",
    "\n",
    "spotify = spotipy.Spotify(client_credentials_manager=SpotifyClientCredentials(client_id=client_id, \n",
    "                                                                              client_secret=client_secret))"
   ]
  },
  {
   "cell_type": "code",
   "execution_count": 51,
   "metadata": {},
   "outputs": [],
   "source": [
    "# psb_uri = 'spotify:artist:2ycnb8Er79LoH2AsR5ldjh'"
   ]
  },
  {
   "cell_type": "code",
   "execution_count": 52,
   "metadata": {},
   "outputs": [
    {
     "data": {
      "text/plain": [
       "'2ycnb8Er79LoH2AsR5ldjh'"
      ]
     },
     "execution_count": 52,
     "metadata": {},
     "output_type": "execute_result"
    }
   ],
   "source": [
    "psb_search = spotify.search(q='pet shop boys', type='artist')\n",
    "psb_id = psb_search['artists']['items'][0]['id']\n",
    "psb_id"
   ]
  },
  {
   "cell_type": "code",
   "execution_count": 53,
   "metadata": {},
   "outputs": [
    {
     "data": {
      "text/html": [
       "<div>\n",
       "<style scoped>\n",
       "    .dataframe tbody tr th:only-of-type {\n",
       "        vertical-align: middle;\n",
       "    }\n",
       "\n",
       "    .dataframe tbody tr th {\n",
       "        vertical-align: top;\n",
       "    }\n",
       "\n",
       "    .dataframe thead th {\n",
       "        text-align: right;\n",
       "    }\n",
       "</style>\n",
       "<table border=\"1\" class=\"dataframe\">\n",
       "  <thead>\n",
       "    <tr style=\"text-align: right;\">\n",
       "      <th></th>\n",
       "      <th>Unnamed: 0</th>\n",
       "      <th>acousticness</th>\n",
       "      <th>album_name</th>\n",
       "      <th>album_type</th>\n",
       "      <th>analysis_url</th>\n",
       "      <th>artist</th>\n",
       "      <th>danceability</th>\n",
       "      <th>duration_ms</th>\n",
       "      <th>energy</th>\n",
       "      <th>id</th>\n",
       "      <th>...</th>\n",
       "      <th>popularity</th>\n",
       "      <th>release_date</th>\n",
       "      <th>speechiness</th>\n",
       "      <th>tempo</th>\n",
       "      <th>time_signature</th>\n",
       "      <th>track_href</th>\n",
       "      <th>track_name</th>\n",
       "      <th>type</th>\n",
       "      <th>uri</th>\n",
       "      <th>valence</th>\n",
       "    </tr>\n",
       "  </thead>\n",
       "  <tbody>\n",
       "    <tr>\n",
       "      <th>247</th>\n",
       "      <td>247</td>\n",
       "      <td>0.007100</td>\n",
       "      <td>Pandemonium (Live at the O2 Arena, London - 21...</td>\n",
       "      <td>album</td>\n",
       "      <td>https://api.spotify.com/v1/audio-analysis/5Dqh...</td>\n",
       "      <td>Pet Shop Boys</td>\n",
       "      <td>0.583</td>\n",
       "      <td>171107.0</td>\n",
       "      <td>0.995</td>\n",
       "      <td>5DqhXazInYKbWDRuuNr0KK</td>\n",
       "      <td>...</td>\n",
       "      <td>2.0</td>\n",
       "      <td>2010-02-15</td>\n",
       "      <td>0.0661</td>\n",
       "      <td>131.047</td>\n",
       "      <td>4.0</td>\n",
       "      <td>https://api.spotify.com/v1/tracks/5DqhXazInYKb...</td>\n",
       "      <td>New York City Boy - Live at the O2 Arena, Lond...</td>\n",
       "      <td>audio_features</td>\n",
       "      <td>spotify:track:5DqhXazInYKbWDRuuNr0KK</td>\n",
       "      <td>0.825</td>\n",
       "    </tr>\n",
       "    <tr>\n",
       "      <th>78</th>\n",
       "      <td>78</td>\n",
       "      <td>0.000612</td>\n",
       "      <td>SUPER</td>\n",
       "      <td>album</td>\n",
       "      <td>https://api.spotify.com/v1/audio-analysis/2dlW...</td>\n",
       "      <td>Pet Shop Boys</td>\n",
       "      <td>0.634</td>\n",
       "      <td>233707.0</td>\n",
       "      <td>0.688</td>\n",
       "      <td>2dlW8FJwdxtLJJib6RJG6D</td>\n",
       "      <td>...</td>\n",
       "      <td>12.0</td>\n",
       "      <td>2016-04-01</td>\n",
       "      <td>0.0471</td>\n",
       "      <td>124.005</td>\n",
       "      <td>4.0</td>\n",
       "      <td>https://api.spotify.com/v1/tracks/2dlW8FJwdxtL...</td>\n",
       "      <td>Burn</td>\n",
       "      <td>audio_features</td>\n",
       "      <td>spotify:track:2dlW8FJwdxtLJJib6RJG6D</td>\n",
       "      <td>0.342</td>\n",
       "    </tr>\n",
       "    <tr>\n",
       "      <th>272</th>\n",
       "      <td>272</td>\n",
       "      <td>0.009450</td>\n",
       "      <td>Pandemonium (Live at the O2 Arena, London - 21...</td>\n",
       "      <td>album</td>\n",
       "      <td>https://api.spotify.com/v1/audio-analysis/78eh...</td>\n",
       "      <td>Pet Shop Boys</td>\n",
       "      <td>0.622</td>\n",
       "      <td>317013.0</td>\n",
       "      <td>0.937</td>\n",
       "      <td>78ehshyqFFLrYSCyK1P352</td>\n",
       "      <td>...</td>\n",
       "      <td>22.0</td>\n",
       "      <td>2010-02-12</td>\n",
       "      <td>0.0442</td>\n",
       "      <td>120.004</td>\n",
       "      <td>4.0</td>\n",
       "      <td>https://api.spotify.com/v1/tracks/78ehshyqFFLr...</td>\n",
       "      <td>Being Boring - Live at the O2 Arena, London - ...</td>\n",
       "      <td>audio_features</td>\n",
       "      <td>spotify:track:78ehshyqFFLrYSCyK1P352</td>\n",
       "      <td>0.295</td>\n",
       "    </tr>\n",
       "  </tbody>\n",
       "</table>\n",
       "<p>3 rows × 25 columns</p>\n",
       "</div>"
      ],
      "text/plain": [
       "     Unnamed: 0  acousticness  \\\n",
       "247         247      0.007100   \n",
       "78           78      0.000612   \n",
       "272         272      0.009450   \n",
       "\n",
       "                                            album_name album_type  \\\n",
       "247  Pandemonium (Live at the O2 Arena, London - 21...      album   \n",
       "78                                               SUPER      album   \n",
       "272  Pandemonium (Live at the O2 Arena, London - 21...      album   \n",
       "\n",
       "                                          analysis_url         artist  \\\n",
       "247  https://api.spotify.com/v1/audio-analysis/5Dqh...  Pet Shop Boys   \n",
       "78   https://api.spotify.com/v1/audio-analysis/2dlW...  Pet Shop Boys   \n",
       "272  https://api.spotify.com/v1/audio-analysis/78eh...  Pet Shop Boys   \n",
       "\n",
       "     danceability  duration_ms  energy                      id  ...  \\\n",
       "247         0.583     171107.0   0.995  5DqhXazInYKbWDRuuNr0KK  ...   \n",
       "78          0.634     233707.0   0.688  2dlW8FJwdxtLJJib6RJG6D  ...   \n",
       "272         0.622     317013.0   0.937  78ehshyqFFLrYSCyK1P352  ...   \n",
       "\n",
       "     popularity  release_date  speechiness    tempo  time_signature  \\\n",
       "247         2.0    2010-02-15       0.0661  131.047             4.0   \n",
       "78         12.0    2016-04-01       0.0471  124.005             4.0   \n",
       "272        22.0    2010-02-12       0.0442  120.004             4.0   \n",
       "\n",
       "                                            track_href  \\\n",
       "247  https://api.spotify.com/v1/tracks/5DqhXazInYKb...   \n",
       "78   https://api.spotify.com/v1/tracks/2dlW8FJwdxtL...   \n",
       "272  https://api.spotify.com/v1/tracks/78ehshyqFFLr...   \n",
       "\n",
       "                                            track_name            type  \\\n",
       "247  New York City Boy - Live at the O2 Arena, Lond...  audio_features   \n",
       "78                                                Burn  audio_features   \n",
       "272  Being Boring - Live at the O2 Arena, London - ...  audio_features   \n",
       "\n",
       "                                      uri  valence  \n",
       "247  spotify:track:5DqhXazInYKbWDRuuNr0KK    0.825  \n",
       "78   spotify:track:2dlW8FJwdxtLJJib6RJG6D    0.342  \n",
       "272  spotify:track:78ehshyqFFLrYSCyK1P352    0.295  \n",
       "\n",
       "[3 rows x 25 columns]"
      ]
     },
     "execution_count": 53,
     "metadata": {},
     "output_type": "execute_result"
    }
   ],
   "source": [
    "df = pd.DataFrame()\n",
    "filepath = \"../data/PSB data.csv\"\n",
    "if not path.exists(filepath):\n",
    "    artist = psb_id\n",
    "    albums = spotify.artist_albums(artist)\n",
    "    for album in albums['items']:\n",
    "        tracks = spotify.album_tracks(album['id'])\n",
    "        for track in tracks['items']:\n",
    "                full_track = spotify.track(track['id'])\n",
    "                audio_features = spotify.audio_features(track['id'])[0]\n",
    "                audio_features['track_name'] = track['name']\n",
    "                audio_features['album_name'] = album['name']\n",
    "                audio_features['album_type'] = album['album_type']\n",
    "                audio_features['artist'] = ', '.join(sorted([artist['name'] for artist in track['artists']]))\n",
    "                audio_features['release_date'] = album['release_date']\n",
    "                audio_features['popularity'] = full_track['popularity']\n",
    "                df = df.append(audio_features, ignore_index=True)\n",
    "        df.to_csv(path_or_buf = filepath)\n",
    "else:\n",
    "    df = pd.read_csv(filepath)\n",
    "    \n",
    "df.sample(3)"
   ]
  },
  {
   "cell_type": "code",
   "execution_count": 54,
   "metadata": {},
   "outputs": [
    {
     "data": {
      "text/plain": [
       "308"
      ]
     },
     "execution_count": 54,
     "metadata": {},
     "output_type": "execute_result"
    }
   ],
   "source": [
    "len(df)"
   ]
  },
  {
   "cell_type": "code",
   "execution_count": 55,
   "metadata": {},
   "outputs": [
    {
     "data": {
      "text/plain": [
       "Index(['Unnamed: 0', 'acousticness', 'album_name', 'album_type',\n",
       "       'analysis_url', 'artist', 'danceability', 'duration_ms', 'energy', 'id',\n",
       "       'instrumentalness', 'key', 'liveness', 'loudness', 'mode', 'popularity',\n",
       "       'release_date', 'speechiness', 'tempo', 'time_signature', 'track_href',\n",
       "       'track_name', 'type', 'uri', 'valence'],\n",
       "      dtype='object')"
      ]
     },
     "execution_count": 55,
     "metadata": {},
     "output_type": "execute_result"
    }
   ],
   "source": [
    "df.columns"
   ]
  },
  {
   "cell_type": "code",
   "execution_count": 57,
   "metadata": {},
   "outputs": [],
   "source": [
    "df.drop(columns= ['analysis_url', 'release_date', 'track_href', 'type', 'uri'], inplace = True)\n",
    "df.drop(columns='id', inplace = True)\n",
    "df.drop(columns = ['album_name','album_type', 'artist', 'time_signature', 'track_name'], inplace = True)\n",
    "df.drop(columns = 'Unnamed: 0', inplace = True)"
   ]
  },
  {
   "cell_type": "code",
   "execution_count": 58,
   "metadata": {},
   "outputs": [
    {
     "data": {
      "text/html": [
       "<div>\n",
       "<style scoped>\n",
       "    .dataframe tbody tr th:only-of-type {\n",
       "        vertical-align: middle;\n",
       "    }\n",
       "\n",
       "    .dataframe tbody tr th {\n",
       "        vertical-align: top;\n",
       "    }\n",
       "\n",
       "    .dataframe thead th {\n",
       "        text-align: right;\n",
       "    }\n",
       "</style>\n",
       "<table border=\"1\" class=\"dataframe\">\n",
       "  <thead>\n",
       "    <tr style=\"text-align: right;\">\n",
       "      <th></th>\n",
       "      <th>acousticness</th>\n",
       "      <th>danceability</th>\n",
       "      <th>duration_ms</th>\n",
       "      <th>energy</th>\n",
       "      <th>instrumentalness</th>\n",
       "      <th>key</th>\n",
       "      <th>liveness</th>\n",
       "      <th>loudness</th>\n",
       "      <th>mode</th>\n",
       "      <th>popularity</th>\n",
       "      <th>speechiness</th>\n",
       "      <th>tempo</th>\n",
       "      <th>valence</th>\n",
       "    </tr>\n",
       "  </thead>\n",
       "  <tbody>\n",
       "    <tr>\n",
       "      <th>0</th>\n",
       "      <td>0.000029</td>\n",
       "      <td>0.488</td>\n",
       "      <td>268787.0</td>\n",
       "      <td>0.957</td>\n",
       "      <td>0.009040</td>\n",
       "      <td>0.0</td>\n",
       "      <td>0.554</td>\n",
       "      <td>-6.115</td>\n",
       "      <td>1.0</td>\n",
       "      <td>12.0</td>\n",
       "      <td>0.0592</td>\n",
       "      <td>124.997</td>\n",
       "      <td>0.531</td>\n",
       "    </tr>\n",
       "    <tr>\n",
       "      <th>1</th>\n",
       "      <td>0.219000</td>\n",
       "      <td>0.577</td>\n",
       "      <td>215333.0</td>\n",
       "      <td>0.633</td>\n",
       "      <td>0.003960</td>\n",
       "      <td>0.0</td>\n",
       "      <td>0.116</td>\n",
       "      <td>-7.920</td>\n",
       "      <td>1.0</td>\n",
       "      <td>11.0</td>\n",
       "      <td>0.0361</td>\n",
       "      <td>130.081</td>\n",
       "      <td>0.204</td>\n",
       "    </tr>\n",
       "    <tr>\n",
       "      <th>2</th>\n",
       "      <td>0.001990</td>\n",
       "      <td>0.575</td>\n",
       "      <td>231347.0</td>\n",
       "      <td>0.894</td>\n",
       "      <td>0.210000</td>\n",
       "      <td>8.0</td>\n",
       "      <td>0.463</td>\n",
       "      <td>-6.073</td>\n",
       "      <td>1.0</td>\n",
       "      <td>11.0</td>\n",
       "      <td>0.0391</td>\n",
       "      <td>127.010</td>\n",
       "      <td>0.320</td>\n",
       "    </tr>\n",
       "    <tr>\n",
       "      <th>3</th>\n",
       "      <td>0.022400</td>\n",
       "      <td>0.643</td>\n",
       "      <td>206160.0</td>\n",
       "      <td>0.736</td>\n",
       "      <td>0.000059</td>\n",
       "      <td>9.0</td>\n",
       "      <td>0.340</td>\n",
       "      <td>-6.159</td>\n",
       "      <td>0.0</td>\n",
       "      <td>14.0</td>\n",
       "      <td>0.0428</td>\n",
       "      <td>124.993</td>\n",
       "      <td>0.696</td>\n",
       "    </tr>\n",
       "    <tr>\n",
       "      <th>4</th>\n",
       "      <td>0.189000</td>\n",
       "      <td>0.510</td>\n",
       "      <td>300520.0</td>\n",
       "      <td>0.602</td>\n",
       "      <td>0.685000</td>\n",
       "      <td>4.0</td>\n",
       "      <td>0.118</td>\n",
       "      <td>-9.508</td>\n",
       "      <td>0.0</td>\n",
       "      <td>7.0</td>\n",
       "      <td>0.0313</td>\n",
       "      <td>130.021</td>\n",
       "      <td>0.310</td>\n",
       "    </tr>\n",
       "  </tbody>\n",
       "</table>\n",
       "</div>"
      ],
      "text/plain": [
       "   acousticness  danceability  duration_ms  energy  instrumentalness  key  \\\n",
       "0      0.000029         0.488     268787.0   0.957          0.009040  0.0   \n",
       "1      0.219000         0.577     215333.0   0.633          0.003960  0.0   \n",
       "2      0.001990         0.575     231347.0   0.894          0.210000  8.0   \n",
       "3      0.022400         0.643     206160.0   0.736          0.000059  9.0   \n",
       "4      0.189000         0.510     300520.0   0.602          0.685000  4.0   \n",
       "\n",
       "   liveness  loudness  mode  popularity  speechiness    tempo  valence  \n",
       "0     0.554    -6.115   1.0        12.0       0.0592  124.997    0.531  \n",
       "1     0.116    -7.920   1.0        11.0       0.0361  130.081    0.204  \n",
       "2     0.463    -6.073   1.0        11.0       0.0391  127.010    0.320  \n",
       "3     0.340    -6.159   0.0        14.0       0.0428  124.993    0.696  \n",
       "4     0.118    -9.508   0.0         7.0       0.0313  130.021    0.310  "
      ]
     },
     "execution_count": 58,
     "metadata": {},
     "output_type": "execute_result"
    }
   ],
   "source": [
    "df.head()"
   ]
  },
  {
   "cell_type": "code",
   "execution_count": 59,
   "metadata": {},
   "outputs": [
    {
     "data": {
      "text/html": [
       "<div>\n",
       "<style scoped>\n",
       "    .dataframe tbody tr th:only-of-type {\n",
       "        vertical-align: middle;\n",
       "    }\n",
       "\n",
       "    .dataframe tbody tr th {\n",
       "        vertical-align: top;\n",
       "    }\n",
       "\n",
       "    .dataframe thead th {\n",
       "        text-align: right;\n",
       "    }\n",
       "</style>\n",
       "<table border=\"1\" class=\"dataframe\">\n",
       "  <thead>\n",
       "    <tr style=\"text-align: right;\">\n",
       "      <th></th>\n",
       "      <th>acousticness</th>\n",
       "      <th>danceability</th>\n",
       "      <th>duration_ms</th>\n",
       "      <th>energy</th>\n",
       "      <th>instrumentalness</th>\n",
       "      <th>key</th>\n",
       "      <th>liveness</th>\n",
       "      <th>loudness</th>\n",
       "      <th>mode</th>\n",
       "      <th>popularity</th>\n",
       "      <th>speechiness</th>\n",
       "      <th>tempo</th>\n",
       "      <th>valence</th>\n",
       "    </tr>\n",
       "  </thead>\n",
       "  <tbody>\n",
       "    <tr>\n",
       "      <th>0</th>\n",
       "      <td>0.000026</td>\n",
       "      <td>0.404959</td>\n",
       "      <td>0.288371</td>\n",
       "      <td>0.954600</td>\n",
       "      <td>0.009407</td>\n",
       "      <td>0.000000</td>\n",
       "      <td>0.535104</td>\n",
       "      <td>0.815564</td>\n",
       "      <td>1.0</td>\n",
       "      <td>0.260870</td>\n",
       "      <td>0.249284</td>\n",
       "      <td>0.486150</td>\n",
       "      <td>0.560992</td>\n",
       "    </tr>\n",
       "    <tr>\n",
       "      <th>1</th>\n",
       "      <td>0.222332</td>\n",
       "      <td>0.527548</td>\n",
       "      <td>0.193958</td>\n",
       "      <td>0.567503</td>\n",
       "      <td>0.004121</td>\n",
       "      <td>0.000000</td>\n",
       "      <td>0.073371</td>\n",
       "      <td>0.685624</td>\n",
       "      <td>1.0</td>\n",
       "      <td>0.239130</td>\n",
       "      <td>0.083811</td>\n",
       "      <td>0.539454</td>\n",
       "      <td>0.187150</td>\n",
       "    </tr>\n",
       "    <tr>\n",
       "      <th>2</th>\n",
       "      <td>0.002017</td>\n",
       "      <td>0.524793</td>\n",
       "      <td>0.222243</td>\n",
       "      <td>0.879331</td>\n",
       "      <td>0.218522</td>\n",
       "      <td>0.727273</td>\n",
       "      <td>0.439174</td>\n",
       "      <td>0.818588</td>\n",
       "      <td>1.0</td>\n",
       "      <td>0.239130</td>\n",
       "      <td>0.105301</td>\n",
       "      <td>0.507255</td>\n",
       "      <td>0.319767</td>\n",
       "    </tr>\n",
       "    <tr>\n",
       "      <th>3</th>\n",
       "      <td>0.022738</td>\n",
       "      <td>0.618457</td>\n",
       "      <td>0.177757</td>\n",
       "      <td>0.690562</td>\n",
       "      <td>0.000062</td>\n",
       "      <td>0.818182</td>\n",
       "      <td>0.309509</td>\n",
       "      <td>0.812397</td>\n",
       "      <td>0.0</td>\n",
       "      <td>0.304348</td>\n",
       "      <td>0.131805</td>\n",
       "      <td>0.486108</td>\n",
       "      <td>0.749628</td>\n",
       "    </tr>\n",
       "    <tr>\n",
       "      <th>4</th>\n",
       "      <td>0.191875</td>\n",
       "      <td>0.435262</td>\n",
       "      <td>0.344419</td>\n",
       "      <td>0.530466</td>\n",
       "      <td>0.712799</td>\n",
       "      <td>0.363636</td>\n",
       "      <td>0.075480</td>\n",
       "      <td>0.571305</td>\n",
       "      <td>0.0</td>\n",
       "      <td>0.152174</td>\n",
       "      <td>0.049427</td>\n",
       "      <td>0.538825</td>\n",
       "      <td>0.308334</td>\n",
       "    </tr>\n",
       "  </tbody>\n",
       "</table>\n",
       "</div>"
      ],
      "text/plain": [
       "   acousticness  danceability  duration_ms    energy  instrumentalness  \\\n",
       "0      0.000026      0.404959     0.288371  0.954600          0.009407   \n",
       "1      0.222332      0.527548     0.193958  0.567503          0.004121   \n",
       "2      0.002017      0.524793     0.222243  0.879331          0.218522   \n",
       "3      0.022738      0.618457     0.177757  0.690562          0.000062   \n",
       "4      0.191875      0.435262     0.344419  0.530466          0.712799   \n",
       "\n",
       "        key  liveness  loudness  mode  popularity  speechiness     tempo  \\\n",
       "0  0.000000  0.535104  0.815564   1.0    0.260870     0.249284  0.486150   \n",
       "1  0.000000  0.073371  0.685624   1.0    0.239130     0.083811  0.539454   \n",
       "2  0.727273  0.439174  0.818588   1.0    0.239130     0.105301  0.507255   \n",
       "3  0.818182  0.309509  0.812397   0.0    0.304348     0.131805  0.486108   \n",
       "4  0.363636  0.075480  0.571305   0.0    0.152174     0.049427  0.538825   \n",
       "\n",
       "    valence  \n",
       "0  0.560992  \n",
       "1  0.187150  \n",
       "2  0.319767  \n",
       "3  0.749628  \n",
       "4  0.308334  "
      ]
     },
     "execution_count": 59,
     "metadata": {},
     "output_type": "execute_result"
    }
   ],
   "source": [
    "from sklearn.preprocessing import MinMaxScaler\n",
    "scaler = MinMaxScaler()\n",
    "df_normalized = pd.DataFrame(scaler.fit_transform(df), columns = df.columns)\n",
    "df_normalized.head()"
   ]
  },
  {
   "cell_type": "code",
   "execution_count": 60,
   "metadata": {},
   "outputs": [
    {
     "data": {
      "text/plain": [
       "<AxesSubplot:>"
      ]
     },
     "execution_count": 60,
     "metadata": {},
     "output_type": "execute_result"
    },
    {
     "data": {
      "image/png": "[encoded data removed]",
      "text/plain": [
       "<Figure size 432x288 with 2 Axes>"
      ]
     },
     "metadata": {
      "needs_background": "light"
     },
     "output_type": "display_data"
    }
   ],
   "source": [
    "import seaborn as sns\n",
    "sns.heatmap(df_normalized.corr())\n",
    "# no real multi collinearity and no individual factor jumps out to influence popularity"
   ]
  },
  {
   "cell_type": "code",
   "execution_count": 61,
   "metadata": {},
   "outputs": [],
   "source": [
    "X = df_normalized[['acousticness', 'danceability', 'duration_ms', 'energy',\n",
    "       'instrumentalness', 'key', 'liveness', 'loudness', 'mode',\n",
    "       'speechiness', 'tempo', 'valence']]\n",
    "y = df_normalized['popularity']"
   ]
  },
  {
   "cell_type": "code",
   "execution_count": 102,
   "metadata": {},
   "outputs": [
    {
     "data": {
      "text/plain": [
       "Lasso()"
      ]
     },
     "execution_count": 102,
     "metadata": {},
     "output_type": "execute_result"
    }
   ],
   "source": [
    "from sklearn import linear_model\n",
    "from sklearn.model_selection import train_test_split\n",
    "\n",
    "X_train, X_test, y_train, y_test = train_test_split(X, y, test_size=0.30, random_state=42)\n",
    "model = linear_model.Lasso(alpha= 1.0)\n",
    "model.fit(X_train, y_train)"
   ]
  },
  {
   "cell_type": "code",
   "execution_count": 82,
   "metadata": {},
   "outputs": [
    {
     "data": {
      "text/plain": [
       "Index(['acousticness', 'danceability', 'duration_ms', 'energy',\n",
       "       'instrumentalness', 'key', 'liveness', 'loudness', 'mode', 'popularity',\n",
       "       'speechiness', 'tempo', 'valence'],\n",
       "      dtype='object')"
      ]
     },
     "execution_count": 82,
     "metadata": {},
     "output_type": "execute_result"
    }
   ],
   "source": [
    "df_normalized.columns"
   ]
  },
  {
   "cell_type": "code",
   "execution_count": 93,
   "metadata": {},
   "outputs": [
    {
     "data": {
      "text/html": [
       "<div>\n",
       "<style scoped>\n",
       "    .dataframe tbody tr th:only-of-type {\n",
       "        vertical-align: middle;\n",
       "    }\n",
       "\n",
       "    .dataframe tbody tr th {\n",
       "        vertical-align: top;\n",
       "    }\n",
       "\n",
       "    .dataframe thead th {\n",
       "        text-align: right;\n",
       "    }\n",
       "</style>\n",
       "<table border=\"1\" class=\"dataframe\">\n",
       "  <thead>\n",
       "    <tr style=\"text-align: right;\">\n",
       "      <th></th>\n",
       "      <th>test</th>\n",
       "      <th>predicted</th>\n",
       "    </tr>\n",
       "  </thead>\n",
       "  <tbody>\n",
       "    <tr>\n",
       "      <th>297</th>\n",
       "      <td>0.239130</td>\n",
       "      <td>0.286552</td>\n",
       "    </tr>\n",
       "    <tr>\n",
       "      <th>287</th>\n",
       "      <td>0.304348</td>\n",
       "      <td>0.286552</td>\n",
       "    </tr>\n",
       "    <tr>\n",
       "      <th>72</th>\n",
       "      <td>0.065217</td>\n",
       "      <td>0.286552</td>\n",
       "    </tr>\n",
       "    <tr>\n",
       "      <th>15</th>\n",
       "      <td>0.782609</td>\n",
       "      <td>0.286552</td>\n",
       "    </tr>\n",
       "    <tr>\n",
       "      <th>10</th>\n",
       "      <td>0.956522</td>\n",
       "      <td>0.286552</td>\n",
       "    </tr>\n",
       "    <tr>\n",
       "      <th>...</th>\n",
       "      <td>...</td>\n",
       "      <td>...</td>\n",
       "    </tr>\n",
       "    <tr>\n",
       "      <th>188</th>\n",
       "      <td>0.021739</td>\n",
       "      <td>0.286552</td>\n",
       "    </tr>\n",
       "    <tr>\n",
       "      <th>71</th>\n",
       "      <td>0.086957</td>\n",
       "      <td>0.286552</td>\n",
       "    </tr>\n",
       "    <tr>\n",
       "      <th>106</th>\n",
       "      <td>0.565217</td>\n",
       "      <td>0.286552</td>\n",
       "    </tr>\n",
       "    <tr>\n",
       "      <th>270</th>\n",
       "      <td>0.478261</td>\n",
       "      <td>0.286552</td>\n",
       "    </tr>\n",
       "    <tr>\n",
       "      <th>102</th>\n",
       "      <td>0.021739</td>\n",
       "      <td>0.286552</td>\n",
       "    </tr>\n",
       "  </tbody>\n",
       "</table>\n",
       "<p>215 rows × 2 columns</p>\n",
       "</div>"
      ],
      "text/plain": [
       "         test  predicted\n",
       "297  0.239130   0.286552\n",
       "287  0.304348   0.286552\n",
       "72   0.065217   0.286552\n",
       "15   0.782609   0.286552\n",
       "10   0.956522   0.286552\n",
       "..        ...        ...\n",
       "188  0.021739   0.286552\n",
       "71   0.086957   0.286552\n",
       "106  0.565217   0.286552\n",
       "270  0.478261   0.286552\n",
       "102  0.021739   0.286552\n",
       "\n",
       "[215 rows x 2 columns]"
      ]
     },
     "execution_count": 93,
     "metadata": {},
     "output_type": "execute_result"
    }
   ],
   "source": [
    "y_pred = model.predict(X_train)\n",
    "first_test = pd.DataFrame({'test':y_train, 'predicted':y_pred})\n",
    "first_test"
   ]
  },
  {
   "cell_type": "code",
   "execution_count": 94,
   "metadata": {},
   "outputs": [
    {
     "data": {
      "text/plain": [
       "<AxesSubplot:>"
      ]
     },
     "execution_count": 94,
     "metadata": {},
     "output_type": "execute_result"
    },
    {
     "data": {
      "image/png": "[encoded data removed]",
      "text/plain": [
       "<Figure size 432x288 with 1 Axes>"
      ]
     },
     "metadata": {
      "needs_background": "light"
     },
     "output_type": "display_data"
    }
   ],
   "source": [
    "sns.scatterplot(data = first_test)"
   ]
  },
  {
   "cell_type": "code",
   "execution_count": 100,
   "metadata": {},
   "outputs": [
    {
     "data": {
      "text/plain": [
       "acousticness        0.000000\n",
       "danceability        0.000000\n",
       "duration_ms         0.000000\n",
       "energy              0.000000\n",
       "instrumentalness    0.000000\n",
       "key                 0.000000\n",
       "liveness            0.000000\n",
       "loudness            0.000000\n",
       "mode                0.000000\n",
       "speechiness         0.000000\n",
       "tempo               0.000000\n",
       "valence             0.009832\n",
       "dtype: float64"
      ]
     },
     "execution_count": 100,
     "metadata": {},
     "output_type": "execute_result"
    }
   ],
   "source": [
    "X_train.min()"
   ]
  },
  {
   "cell_type": "code",
   "execution_count": 96,
   "metadata": {},
   "outputs": [
    {
     "data": {
      "text/plain": [
       "(215,)"
      ]
     },
     "execution_count": 96,
     "metadata": {},
     "output_type": "execute_result"
    }
   ],
   "source": [
    "y_train.shape"
   ]
  },
  {
   "cell_type": "code",
   "execution_count": 97,
   "metadata": {},
   "outputs": [
    {
     "data": {
      "text/plain": [
       "(215,)"
      ]
     },
     "execution_count": 97,
     "metadata": {},
     "output_type": "execute_result"
    }
   ],
   "source": [
    "y_pred.shape"
   ]
  },
  {
   "cell_type": "code",
   "execution_count": null,
   "metadata": {},
   "outputs": [],
   "source": []
  },
  {
   "cell_type": "code",
   "execution_count": null,
   "metadata": {},
   "outputs": [],
   "source": []
  }
 ],
 "metadata": {
  "kernelspec": {
   "display_name": "Python 3",
   "language": "python",
   "name": "python3"
  },
  "language_info": {
   "codemirror_mode": {
    "name": "ipython",
    "version": 3
   },
   "file_extension": ".py",
   "mimetype": "text/x-python",
   "name": "python",
   "nbconvert_exporter": "python",
   "pygments_lexer": "ipython3",
   "version": "3.8.2"
  }
 },
 "nbformat": 4,
 "nbformat_minor": 4
}
