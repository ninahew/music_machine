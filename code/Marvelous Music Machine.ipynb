{
 "cells": [
  {
   "cell_type": "markdown",
   "metadata": {},
   "source": [
    "# Music Machine"
   ]
  },
  {
   "cell_type": "code",
   "execution_count": 8,
   "metadata": {},
   "outputs": [],
   "source": [
    "import spotipy.util as util\n",
    "import spotipy\n",
    "import os.path as path\n",
    "import matplotlib.pyplot as plt\n",
    "import seaborn as sns\n",
    "\n",
    "username = 'ninahew'\n",
    "client_id ='a758a8092e3b45949388c4123f79948f'\n",
    "client_secret = '9852f1ad63d64a4284bf4496e1bd2115'\n",
    "redirect_uri = 'http://localhost:7777/callback'\n",
    "scope = 'user-read-recently-played'\n",
    "user_id = 'spotify:user:ninahew'\n",
    "\n",
    "from spotipy.oauth2 import SpotifyClientCredentials\n",
    "\n",
    "spotify = spotipy.Spotify(client_credentials_manager=SpotifyClientCredentials(client_id=client_id, \n",
    "                                                                              client_secret=client_secret))"
   ]
  },
  {
   "cell_type": "code",
   "execution_count": 9,
   "metadata": {},
   "outputs": [],
   "source": [
    "disco_70s_id = 'spotify:playlist:22iiMTWqV9ei1LaNM9BRVQ'"
   ]
  },
  {
   "cell_type": "code",
   "execution_count": 44,
   "metadata": {},
   "outputs": [
    {
     "data": {
      "text/plain": [
       "'1cdRKJlpHp273rwdqMRLOr'"
      ]
     },
     "execution_count": 44,
     "metadata": {},
     "output_type": "execute_result"
    }
   ],
   "source": [
    "disco_70s = spotify.user_playlist_tracks(user_id, disco_70s_id)\n",
    "# disco_70s_ids = disco_70s\n",
    "disco_70s['items'][0]['track']['id']"
   ]
  },
  {
   "cell_type": "code",
   "execution_count": null,
   "metadata": {},
   "outputs": [],
   "source": [
    "tracks = disco_70s['items'][0]['track']\n",
    "for track in tracks: \n",
    "\n",
    "#                     full_track = spotify.track(track['id'])\n",
    "#                     audio_features = spotify.audio_features(track['id'])[0]\n",
    "#                     audio_features['track_name'] = track['name']\n",
    "#                     audio_features['album_name'] = album['name']\n",
    "#                     audio_features['album_type'] = album['album_type']\n",
    "#                     audio_features['artist'] = ', '.join(sorted([artist['name'] for artist in track['artists']]))\n",
    "#                     audio_features['release_date'] = album['release_date']\n",
    "#                     audio_features['popularity'] = full_track['popularity']\n",
    "#                     df = df.append(audio_features, ignore_index=True)\n",
    "#     df.to_csv(path_or_buf = filepath)\n",
    "# else:\n",
    "#     df = pd.read_csv(filepath)\n",
    "    \n",
    "# df.sample(3)"
   ]
  }
 ],
 "metadata": {
  "kernelspec": {
   "display_name": "Python 3",
   "language": "python",
   "name": "python3"
  },
  "language_info": {
   "codemirror_mode": {
    "name": "ipython",
    "version": 3
   },
   "file_extension": ".py",
   "mimetype": "text/x-python",
   "name": "python",
   "nbconvert_exporter": "python",
   "pygments_lexer": "ipython3",
   "version": "3.8.2"
  }
 },
 "nbformat": 4,
 "nbformat_minor": 4
}
